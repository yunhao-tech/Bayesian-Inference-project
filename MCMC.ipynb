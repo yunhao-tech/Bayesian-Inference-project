{
 "cells": [
  {
   "cell_type": "code",
   "execution_count": 6,
   "metadata": {},
   "outputs": [],
   "source": [
    "# class MCMC_Sampler(Sampler):\n",
    "#     def __init__(self, SUR_data) -> None:\n",
    "#         super().__init__(SUR_data)\n",
    "\n",
    "#     def sample(self):\n",
    "#         pass"
   ]
  },
  {
   "cell_type": "code",
   "execution_count": 39,
   "metadata": {},
   "outputs": [],
   "source": [
    "from utils import generate_SUR, Sampler, DefaultParams\n",
    "import numpy as np\n",
    "from numpy.linalg import inv\n",
    "from scipy.stats import invwishart, invgamma"
   ]
  },
  {
   "cell_type": "code",
   "execution_count": 46,
   "metadata": {},
   "outputs": [],
   "source": [
    "params = DefaultParams()\n",
    "data = generate_SUR()"
   ]
  },
  {
   "cell_type": "code",
   "execution_count": 47,
   "metadata": {},
   "outputs": [],
   "source": [
    "omega_inv = inv(params.omega)\n",
    "omega_inv_tensor = np.block([\n",
    "                [omega_inv[0,0]*np.eye(params.n), omega_inv[0,1]*np.eye(params.n)],\n",
    "                [omega_inv[1,0]*np.eye(params.n), omega_inv[1,1]*np.eye(params.n)],\n",
    "])"
   ]
  },
  {
   "cell_type": "code",
   "execution_count": 48,
   "metadata": {},
   "outputs": [],
   "source": [
    "X = data['X']\n",
    "Y = data['Y']\n",
    "y1 = Y[:100]\n",
    "y2 = Y[100:]\n",
    "x1 = data['x1']\n",
    "x2 = data['x2']\n",
    "X_transposed = np.transpose(X)"
   ]
  },
  {
   "cell_type": "code",
   "execution_count": 49,
   "metadata": {},
   "outputs": [],
   "source": [
    "beta_hat = inv(X_transposed @ omega_inv_tensor @ X) @ X_transposed @ omega_inv_tensor @ Y\n",
    "omega_hat = inv(X_transposed @ omega_inv_tensor @ X)"
   ]
  },
  {
   "cell_type": "code",
   "execution_count": 50,
   "metadata": {},
   "outputs": [],
   "source": [
    "m1 = y1 - x1 @ params.beta1\n",
    "m2 = y2 - x2 @ params.beta2\n",
    "R = np.array([[(np.transpose(m1) @ m1).item() , (np.transpose(m1) @ m2).item()],\n",
    "              [(np.transpose(m2) @ m1).item() , (np.transpose(m2) @ m2).item()],])"
   ]
  },
  {
   "cell_type": "code",
   "execution_count": 52,
   "metadata": {},
   "outputs": [
    {
     "data": {
      "text/plain": [
       "array([[ 11.7548241 ,  -9.42084244],\n",
       "       [ -9.42084244, 128.67311482]])"
      ]
     },
     "execution_count": 52,
     "metadata": {},
     "output_type": "execute_result"
    }
   ],
   "source": [
    "R"
   ]
  },
  {
   "cell_type": "code",
   "execution_count": 37,
   "metadata": {},
   "outputs": [
    {
     "data": {
      "text/plain": [
       "array([ 3.0091081 , -1.99050284,  1.9944703 ,  1.01579687])"
      ]
     },
     "execution_count": 37,
     "metadata": {},
     "output_type": "execute_result"
    }
   ],
   "source": [
    "np.random.multivariate_normal(mean=beta_hat.reshape(-1,), cov=omega_hat)"
   ]
  },
  {
   "cell_type": "code",
   "execution_count": 57,
   "metadata": {},
   "outputs": [
    {
     "data": {
      "text/plain": [
       "array([[ 0.10882734, -0.13758811],\n",
       "       [-0.13758811,  1.19858282]])"
      ]
     },
     "execution_count": 57,
     "metadata": {},
     "output_type": "execute_result"
    }
   ],
   "source": [
    "invwishart.rvs(df=params.n, scale=R)"
   ]
  },
  {
   "cell_type": "code",
   "execution_count": null,
   "metadata": {},
   "outputs": [],
   "source": []
  }
 ],
 "metadata": {
  "kernelspec": {
   "display_name": "computer-vision",
   "language": "python",
   "name": "python3"
  },
  "language_info": {
   "codemirror_mode": {
    "name": "ipython",
    "version": 3
   },
   "file_extension": ".py",
   "mimetype": "text/x-python",
   "name": "python",
   "nbconvert_exporter": "python",
   "pygments_lexer": "ipython3",
   "version": "3.9.15 (main, Nov 24 2022, 14:39:17) [MSC v.1916 64 bit (AMD64)]"
  },
  "orig_nbformat": 4,
  "vscode": {
   "interpreter": {
    "hash": "52de89b2aaa5acf3f081432a27147991a45720934ee64ecbf7a5e201527ab566"
   }
  }
 },
 "nbformat": 4,
 "nbformat_minor": 2
}
