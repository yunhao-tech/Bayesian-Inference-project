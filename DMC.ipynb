{
 "cells": [
  {
   "cell_type": "code",
   "execution_count": 1,
   "metadata": {},
   "outputs": [],
   "source": [
    "from utils import generate_SUR, Sampler, DefaultParams\n",
    "import numpy as np\n",
    "from numpy.linalg import inv\n",
    "from scipy.stats import invwishart, invgamma\n"
   ]
  },
  {
   "cell_type": "code",
   "execution_count": 2,
   "metadata": {},
   "outputs": [],
   "source": [
    "params = DefaultParams()"
   ]
  },
  {
   "cell_type": "code",
   "execution_count": 3,
   "metadata": {},
   "outputs": [],
   "source": [
    "class DMC_Sampler(Sampler):\n",
    "    def __init__(self, SUR_data, n_samples=10000) -> None:\n",
    "        super().__init__(SUR_data)\n",
    "        self.n_samples = n_samples\n",
    "        \n",
    "    def sample(self):\n",
    "        y1 = self.SUR_data['Y'][:100]\n",
    "        y2 = self.SUR_data['Y'][100:]\n",
    "        x1 = self.SUR_data['x1']\n",
    "        x2 = self.SUR_data['x2']\n",
    "        b1_hat = inv(np.transpose(x1) @ x1) @ np.transpose(x1) @ y1\n",
    "\n",
    "        a1 = (params.n - 2) / 2\n",
    "        scale1 = (np.transpose(y1 - x1 @ b1_hat) @ (y1 - x1 @ b1_hat)).item() / 2\n",
    "        sigma1 = [invgamma.rvs(a=a1, scale=scale1) for _ in range(self.n_samples)]\n",
    "        mean1 = b1_hat.reshape(-1,)\n",
    "        b1 = [np.random.multivariate_normal(mean=mean1, cov=inv(np.transpose(x1) @ x1)*sig1).reshape(-1,1) for sig1 in sigma1]\n",
    "        z2 = [np.concatenate((x2, (y1-x1@b1_ele)), axis=1) for b1_ele in b1]\n",
    "        b2_hat = [inv(np.transpose(z2_ele) @ z2_ele) @ np.transpose(z2_ele) @ y2 for z2_ele in z2]\n",
    "        a2 = (params.n - 1) / 2\n",
    "        scale2 = [(np.transpose(y2 - z2_ele @ b2_hat_ele) @ (y2 - z2_ele @ b2_hat_ele)).item() / 2 \n",
    "                    for (z2_ele,b2_hat_ele) in zip(z2,b2_hat)]\n",
    "        sigma2 = [invgamma.rvs(a=a2, scale=scale2_ele) for scale2_ele in scale2]\n",
    "        b2 = [np.random.multivariate_normal(mean=b2_hat_ele.reshape(-1,), cov=inv(np.transpose(z2_ele) @ z2_ele)*sig2).reshape(-1,1) \n",
    "                for (b2_hat_ele,sig2,z2_ele) in zip(b2_hat,sigma2,z2)]\n",
    "        \n",
    "        rho = [ele[-1].item() for ele in b2]\n",
    "        w11 = np.array(sigma1)\n",
    "        w12 = np.array([rho_ele * sigma1_ele for (rho_ele, sigma1_ele) in zip(rho, sigma1)])\n",
    "        w22 = np.array([rho_ele * sigma1_ele + sigma2_ele for (rho_ele, sigma1_ele, sigma2_ele) in zip(rho, sigma1, sigma2)])\n",
    "        Omega = [np.array([[w11_ele, w12_ele], \n",
    "                           [w12_ele, w22_ele]]) for (w11_ele, w12_ele, w22_ele) in zip(w11, w12, w22)]\n",
    "        beta1 = np.array(b1)\n",
    "        beta2 = np.array(b2)[:,:2,:]\n",
    "        return beta1, beta2, np.array(Omega)\n",
    "        "
   ]
  },
  {
   "cell_type": "code",
   "execution_count": 4,
   "metadata": {},
   "outputs": [],
   "source": [
    "DMC_sampler = DMC_Sampler(SUR_data=generate_SUR())\n",
    "beta1, beta2, Omega = DMC_sampler.sample()"
   ]
  },
  {
   "cell_type": "code",
   "execution_count": 12,
   "metadata": {},
   "outputs": [
    {
     "name": "stdout",
     "output_type": "stream",
     "text": [
      "Mean: [[ 2.99272022]\n",
      " [-2.00489343]];\n"
     ]
    }
   ],
   "source": [
    "print(f'Mean: {np.mean(beta1, axis=0)};')"
   ]
  },
  {
   "cell_type": "code",
   "execution_count": 11,
   "metadata": {},
   "outputs": [
    {
     "name": "stdout",
     "output_type": "stream",
     "text": [
      "Mean: [[2.02448857]\n",
      " [1.00205464]];\n"
     ]
    }
   ],
   "source": [
    "print(f'Mean: {np.mean(beta2, axis=0)};')\n"
   ]
  },
  {
   "cell_type": "code",
   "execution_count": 13,
   "metadata": {},
   "outputs": [
    {
     "name": "stdout",
     "output_type": "stream",
     "text": [
      "Mean: [[ 0.11265717 -0.06669008]\n",
      " [-0.06669008  1.1870755 ]];\n"
     ]
    }
   ],
   "source": [
    "print(f'Mean: {np.mean(Omega, axis=0)};')"
   ]
  },
  {
   "cell_type": "code",
   "execution_count": null,
   "metadata": {},
   "outputs": [],
   "source": []
  }
 ],
 "metadata": {
  "kernelspec": {
   "display_name": "base",
   "language": "python",
   "name": "python3"
  },
  "language_info": {
   "codemirror_mode": {
    "name": "ipython",
    "version": 3
   },
   "file_extension": ".py",
   "mimetype": "text/x-python",
   "name": "python",
   "nbconvert_exporter": "python",
   "pygments_lexer": "ipython3",
   "version": "3.8.3"
  },
  "orig_nbformat": 4,
  "vscode": {
   "interpreter": {
    "hash": "9e9dd1ae481486d48c9db6dc9dc7a9a7f82b64eba274b60c6e858d1cb03bdb70"
   }
  }
 },
 "nbformat": 4,
 "nbformat_minor": 2
}
