{
 "cells": [
  {
   "cell_type": "code",
   "execution_count": null,
   "metadata": {},
   "outputs": [],
   "source": [
    "# class DMC_Sampler(Sampler):\n",
    "#     def __init__(self, SUR_data) -> None:\n",
    "#         super().__init__(SUR_data)\n",
    "        \n",
    "#     def sample(self):\n",
    "#         pass"
   ]
  },
  {
   "cell_type": "code",
   "execution_count": 1,
   "metadata": {},
   "outputs": [],
   "source": [
    "from utils import generate_SUR, Sampler, DefaultParams\n",
    "import numpy as np\n",
    "from numpy.linalg import inv\n",
    "from scipy.stats import invwishart, invgamma\n"
   ]
  },
  {
   "cell_type": "code",
   "execution_count": 3,
   "metadata": {},
   "outputs": [],
   "source": [
    "data = generate_SUR()\n",
    "params = DefaultParams()"
   ]
  },
  {
   "cell_type": "code",
   "execution_count": 8,
   "metadata": {},
   "outputs": [],
   "source": [
    "z1 = data['x1']\n",
    "z2 = np.concatenate((data['x2'], data['U'][:params.n]), axis=1)"
   ]
  },
  {
   "cell_type": "code",
   "execution_count": 10,
   "metadata": {},
   "outputs": [],
   "source": [
    "y1 = data['Y'][:100]\n",
    "y2 = data['Y'][100:]\n",
    "b1_hat = inv(np.transpose(z1) @ z1) @ np.transpose(z1) @ y1\n",
    "b2_hat = inv(np.transpose(z2) @ z2) @ np.transpose(z2) @ y2"
   ]
  },
  {
   "cell_type": "code",
   "execution_count": 16,
   "metadata": {},
   "outputs": [],
   "source": [
    "N = 1000"
   ]
  },
  {
   "cell_type": "code",
   "execution_count": 26,
   "metadata": {},
   "outputs": [],
   "source": [
    "a1 = (params.n - 2) / 2\n",
    "scale1 = (np.transpose(y1 - z1 @ b1_hat) @ (y1 - z1 @ b1_hat)).item() / 2\n",
    "sigma1 = [invgamma.rvs(a=a1, scale=scale1) for _ in range(N)]"
   ]
  },
  {
   "cell_type": "code",
   "execution_count": 20,
   "metadata": {},
   "outputs": [],
   "source": [
    "mean1 = b1_hat.reshape(-1,)\n",
    "b1 = [np.random.multivariate_normal(mean=mean1, cov=inv(np.transpose(z1) @ z1)*sig1).reshape(-1,1) for sig1 in sigma1]"
   ]
  },
  {
   "cell_type": "code",
   "execution_count": 25,
   "metadata": {},
   "outputs": [],
   "source": [
    "a2 = (params.n - 1) / 2\n",
    "scale2 = (np.transpose(y2 - z2 @ b2_hat) @ (y2 - z2 @ b2_hat)).item() / 2\n",
    "sigma2 = [invgamma.rvs(a=a2, scale=scale2) for _ in range(N)]"
   ]
  },
  {
   "cell_type": "code",
   "execution_count": 28,
   "metadata": {},
   "outputs": [],
   "source": [
    "mean2 = b2_hat.reshape(-1,)\n",
    "b2 = [np.random.multivariate_normal(mean=mean2, cov=inv(np.transpose(z2) @ z2)*sig2).reshape(-1,1) for sig2 in sigma2]"
   ]
  },
  {
   "cell_type": "code",
   "execution_count": 32,
   "metadata": {},
   "outputs": [],
   "source": [
    "rho = [ele[-1].item() for ele in b2]"
   ]
  },
  {
   "cell_type": "code",
   "execution_count": 34,
   "metadata": {},
   "outputs": [],
   "source": [
    "w11 = sigma1\n",
    "w12 = [rho_ele * sigma1_ele + sigma2_ele for (rho_ele, sigma1_ele, sigma2_ele) in zip(rho, sigma1, sigma2)]\n",
    "w22 = [rho_ele * sigma1_ele for (rho_ele, sigma1_ele) in zip(rho, sigma1)]"
   ]
  },
  {
   "cell_type": "code",
   "execution_count": 37,
   "metadata": {},
   "outputs": [],
   "source": [
    "Omega = [np.array([[w11_ele, w12_ele], \n",
    "                   [w12_ele, w22_ele]]) for (w11_ele, w12_ele, w22_ele) in zip(w11, w12, w22)]"
   ]
  },
  {
   "cell_type": "code",
   "execution_count": 38,
   "metadata": {},
   "outputs": [],
   "source": [
    "X = data['X']\n",
    "Y = data['Y']\n",
    "X_transposed = np.transpose(X)"
   ]
  },
  {
   "cell_type": "code",
   "execution_count": null,
   "metadata": {},
   "outputs": [],
   "source": [
    "# beta_hat = [inv(X_transposed @ inv(omega_ele) @ X) @ X_transposed @ inv(omega_ele) @ Y for omega_ele in Omega]\n",
    "# omege_hat = [inv(X_transposed @ inv(omega_ele) @ X) for omega_ele in Omega]\n",
    "\n"
   ]
  }
 ],
 "metadata": {
  "kernelspec": {
   "display_name": "computer-vision",
   "language": "python",
   "name": "python3"
  },
  "language_info": {
   "codemirror_mode": {
    "name": "ipython",
    "version": 3
   },
   "file_extension": ".py",
   "mimetype": "text/x-python",
   "name": "python",
   "nbconvert_exporter": "python",
   "pygments_lexer": "ipython3",
   "version": "3.9.15"
  },
  "orig_nbformat": 4,
  "vscode": {
   "interpreter": {
    "hash": "52de89b2aaa5acf3f081432a27147991a45720934ee64ecbf7a5e201527ab566"
   }
  }
 },
 "nbformat": 4,
 "nbformat_minor": 2
}
